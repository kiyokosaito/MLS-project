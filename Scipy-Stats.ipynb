{
 "cells": [
  {
   "cell_type": "markdown",
   "metadata": {},
   "source": [
    "Scipy stats \n",
    "This notebook will cover below\n",
    "\n",
    "1.Overview of the scipy-stats \n",
    "\n",
    "https://docs.scipy.org/doc/scipy/reference/stats.html  [1]\n",
    "\n",
    "https://ja.wikipedia.org/wiki/%E5%88%86%E6%95%A3%E5%88%86%E6%9E%90 [2]\n",
    "\n",
    "https://agency-star.co.jp/column/scipy  [3]\n",
    "\n",
    "http://plaza.umin.ac.jp/~beehappy/stat/com-anova.html [4]\n",
    "\n",
    "http://plaza.umin.ac.jp/~beehappy/stat/comment.html#error [5]\n",
    "\n",
    "https://statistics.laerd.com/spss-tutorials/one-way-anova-using-spss-statistics.php [6]\n",
    "\n",
    "2.Using ANOVA to test datasets to decide if hypothesis that I set is supported or not\n",
    "\n",
    "http://www.saturingi.gr.jp/seminar/statistical/vol3.pdf"
   ]
  },
  {
   "cell_type": "markdown",
   "metadata": {},
   "source": [
    "1. Overview of the scipy-stats\n",
    "\n",
    "According to the official document, this library has \" a large number of probability distributions, summary and frequency statistics, correlation functions and statistical tests, masked statistics, kernel density estimation, quasi-Monte Carlo functionality, and more.\"\n",
    "\n",
    "Importing libralies from scipy, statistics can be performed and analyse hypothesis on data. If the data has 2 groups and to analyse if there is significant difference between 2 groups, null hypothesis should be denied then it is safe to say there is significant difference between 2 groups. \n",
    "\n",
    "Dataset can be in different formats thus the right testing needs to be decided first to see if the testing works with the dataset or not. For instatnce, t-test can be a great test if data is about parid samples, t-test is suitable to test if there are significant difference between 2 groups.  \n",
    "\n",
    "Analysis of variance (ANOVA) is a collection of statistical models and their associated estimation procedures (such as the \"variation\" among and between groups) used to analyze the differences among means. If the dataset contains 3 groups to be analysed, ANOVA is suitable than t-test. \n",
    "\n",
    "The reason why t-test is not suitable to test if there are 3 groups to be analysed is as follows. \n",
    "\n",
    "e.g., there are 3 groups (A,B and C) and p value is set to 0.05\n",
    "Between AB, BC and AC, the statistic to be significant different in one of the combination will be caluculated as below. \n",
    "1-(1-0.05)*(1-0.05)*(1-0.05) and p value is 0.1426. This leads to type 1 error: null hypothesis gets denied where null hyphothesis should not be denied, meaning there is not significant difference in fact. \n",
    "\n"
   ]
  },
  {
   "cell_type": "markdown",
   "metadata": {},
   "source": [
    "2.Using ANOVA to test datasets to decide if hypothesis that I set is supported or not\n",
    "\n",
    "I will test if there is any significant difference in Sepal.Width with iris dataset from skcikt learn by using ANOVA and will post hoc test if my hyphothesis is supported or not. \n",
    "\n",
    "P value is set to 0.05 to support that null hyphothesis is denied to show that there is significant difference in 3 species with Sepal.Width. \n",
    "\n",
    "Firstly, in order to test with ANOVA, there are 6 assamptions to be met. I will check if the sepal.width dataset will meet these assamptions first then test if the null hypothesis is denied or not. \n",
    "\n",
    "Secondly, I will conduct post hoc test if the anova testing result is supported or not.\n",
    "\n",
    "\n",
    "\n",
    "\n"
   ]
  },
  {
   "cell_type": "code",
   "execution_count": null,
   "metadata": {},
   "outputs": [],
   "source": []
  },
  {
   "cell_type": "code",
   "execution_count": null,
   "metadata": {},
   "outputs": [],
   "source": []
  },
  {
   "cell_type": "code",
   "execution_count": null,
   "metadata": {},
   "outputs": [],
   "source": []
  },
  {
   "cell_type": "code",
   "execution_count": 1,
   "metadata": {},
   "outputs": [],
   "source": [
    "# Data frames.\n",
    "import pandas as pd\n",
    "\n",
    "# Plotting.\n",
    "import seaborn as sns\n",
    "\n",
    "# Stats.\n",
    "import scipy.stats as ss\n",
    "\n",
    "# Numerical arrays.\n",
    "import numpy as np\n",
    "\n",
    "# Collections.\n",
    "import collections as co\n",
    "\n",
    "# Specials.\n",
    "import scipy.special as spec\n",
    "\n"
   ]
  },
  {
   "cell_type": "code",
   "execution_count": 2,
   "metadata": {},
   "outputs": [],
   "source": [
    "df = pd.read_csv(\"https://raw.githubusercontent.com/uiuc-cse/data-fa14/gh-pages/data/iris.csv\")"
   ]
  },
  {
   "cell_type": "code",
   "execution_count": 3,
   "metadata": {},
   "outputs": [
    {
     "data": {
      "text/html": [
       "<div>\n",
       "<style scoped>\n",
       "    .dataframe tbody tr th:only-of-type {\n",
       "        vertical-align: middle;\n",
       "    }\n",
       "\n",
       "    .dataframe tbody tr th {\n",
       "        vertical-align: top;\n",
       "    }\n",
       "\n",
       "    .dataframe thead th {\n",
       "        text-align: right;\n",
       "    }\n",
       "</style>\n",
       "<table border=\"1\" class=\"dataframe\">\n",
       "  <thead>\n",
       "    <tr style=\"text-align: right;\">\n",
       "      <th></th>\n",
       "      <th>sepal_length</th>\n",
       "      <th>sepal_width</th>\n",
       "      <th>petal_length</th>\n",
       "      <th>petal_width</th>\n",
       "      <th>species</th>\n",
       "    </tr>\n",
       "  </thead>\n",
       "  <tbody>\n",
       "    <tr>\n",
       "      <th>0</th>\n",
       "      <td>5.1</td>\n",
       "      <td>3.5</td>\n",
       "      <td>1.4</td>\n",
       "      <td>0.2</td>\n",
       "      <td>setosa</td>\n",
       "    </tr>\n",
       "    <tr>\n",
       "      <th>1</th>\n",
       "      <td>4.9</td>\n",
       "      <td>3.0</td>\n",
       "      <td>1.4</td>\n",
       "      <td>0.2</td>\n",
       "      <td>setosa</td>\n",
       "    </tr>\n",
       "    <tr>\n",
       "      <th>2</th>\n",
       "      <td>4.7</td>\n",
       "      <td>3.2</td>\n",
       "      <td>1.3</td>\n",
       "      <td>0.2</td>\n",
       "      <td>setosa</td>\n",
       "    </tr>\n",
       "    <tr>\n",
       "      <th>3</th>\n",
       "      <td>4.6</td>\n",
       "      <td>3.1</td>\n",
       "      <td>1.5</td>\n",
       "      <td>0.2</td>\n",
       "      <td>setosa</td>\n",
       "    </tr>\n",
       "    <tr>\n",
       "      <th>4</th>\n",
       "      <td>5.0</td>\n",
       "      <td>3.6</td>\n",
       "      <td>1.4</td>\n",
       "      <td>0.2</td>\n",
       "      <td>setosa</td>\n",
       "    </tr>\n",
       "  </tbody>\n",
       "</table>\n",
       "</div>"
      ],
      "text/plain": [
       "   sepal_length  sepal_width  petal_length  petal_width species\n",
       "0           5.1          3.5           1.4          0.2  setosa\n",
       "1           4.9          3.0           1.4          0.2  setosa\n",
       "2           4.7          3.2           1.3          0.2  setosa\n",
       "3           4.6          3.1           1.5          0.2  setosa\n",
       "4           5.0          3.6           1.4          0.2  setosa"
      ]
     },
     "execution_count": 3,
     "metadata": {},
     "output_type": "execute_result"
    }
   ],
   "source": [
    "df.head()"
   ]
  },
  {
   "cell_type": "markdown",
   "metadata": {},
   "source": [
    "x = df.data\n",
    "t = df.target\n",
    "columns_names = df.feature_names"
   ]
  },
  {
   "cell_type": "markdown",
   "metadata": {},
   "source": [
    "columns_names = df.feature_names"
   ]
  },
  {
   "cell_type": "markdown",
   "metadata": {},
   "source": [
    "<br>\n",
    "\n",
    "### Assumption 1: Dependent variable\n",
    "\n",
    "\"Your dependent variable should be measured at the interval or ratio level (i.e., they are continuous). Examples of variables that meet this criterion include revision time (measured in hours), intelligence (measured using IQ score), exam performance (measured from 0 to 100), weight (measured in kg), and so forth. \" [6]\n",
    "\n",
    "\n",
    "***\n"
   ]
  },
  {
   "cell_type": "code",
   "execution_count": 4,
   "metadata": {},
   "outputs": [
    {
     "data": {
      "text/plain": [
       "0      3.5\n",
       "1      3.0\n",
       "2      3.2\n",
       "3      3.1\n",
       "4      3.6\n",
       "      ... \n",
       "145    3.0\n",
       "146    2.5\n",
       "147    3.0\n",
       "148    3.4\n",
       "149    3.0\n",
       "Name: sepal_width, Length: 150, dtype: float64"
      ]
     },
     "execution_count": 4,
     "metadata": {},
     "output_type": "execute_result"
    }
   ],
   "source": [
    "# The dependent variable.\n",
    "dependent = df['sepal_width']\n",
    "dependent\n",
    "#This shows that sepal width were measured in cm thus it is met 1st assumption."
   ]
  },
  {
   "cell_type": "code",
   "execution_count": 5,
   "metadata": {},
   "outputs": [
    {
     "data": {
      "text/plain": [
       "count    150.000000\n",
       "mean       3.054000\n",
       "std        0.433594\n",
       "min        2.000000\n",
       "25%        2.800000\n",
       "50%        3.000000\n",
       "75%        3.300000\n",
       "max        4.400000\n",
       "Name: sepal_width, dtype: float64"
      ]
     },
     "execution_count": 5,
     "metadata": {},
     "output_type": "execute_result"
    }
   ],
   "source": [
    "dependent.describe()\n"
   ]
  },
  {
   "cell_type": "markdown",
   "metadata": {},
   "source": [
    "<br>\n",
    "\n",
    "### Assumption 2: Independent variable\n",
    "\n",
    "\"Your independent variable should consist of two or more categorical, independent groups.\" [6]\n",
    "\n",
    "***"
   ]
  },
  {
   "cell_type": "code",
   "execution_count": 6,
   "metadata": {},
   "outputs": [
    {
     "data": {
      "text/plain": [
       "0         setosa\n",
       "1         setosa\n",
       "2         setosa\n",
       "3         setosa\n",
       "4         setosa\n",
       "         ...    \n",
       "145    virginica\n",
       "146    virginica\n",
       "147    virginica\n",
       "148    virginica\n",
       "149    virginica\n",
       "Name: species, Length: 150, dtype: object"
      ]
     },
     "execution_count": 6,
     "metadata": {},
     "output_type": "execute_result"
    }
   ],
   "source": [
    "# Independent variable.\n",
    "independent = df['species']\n",
    "independent\n",
    "#This shows the data has 3 independent groups"
   ]
  },
  {
   "cell_type": "markdown",
   "metadata": {},
   "source": [
    "<br>\n",
    "\n",
    "### Assumption 3: \n",
    "\n",
    "You should have independence of observations, which means that there is no relationship between the observations in each group or between the groups themselves.  [6]\n",
    "***"
   ]
  },
  {
   "cell_type": "markdown",
   "metadata": {},
   "source": [
    "This dataset took 150 samples thus there is no relationship between observations in each group or between the groups themselves.\n"
   ]
  },
  {
   "cell_type": "markdown",
   "metadata": {},
   "source": [
    "<br>\n",
    "\n",
    "### Assumption 4: \n",
    "\n",
    "\"There should be no significant outliers. Outliers are simply single data points within your data that do not follow the usual pattern.\" [6]\n",
    "\n",
    "***"
   ]
  },
  {
   "cell_type": "code",
   "execution_count": 7,
   "metadata": {},
   "outputs": [
    {
     "data": {
      "text/plain": [
       "<AxesSubplot:xlabel='sepal_width', ylabel='species'>"
      ]
     },
     "execution_count": 7,
     "metadata": {},
     "output_type": "execute_result"
    },
    {
     "data": {
      "image/png": "[encoded data removed]",
      "text/plain": [
       "<Figure size 432x288 with 1 Axes>"
      ]
     },
     "metadata": {
      "needs_background": "light"
     },
     "output_type": "display_data"
    }
   ],
   "source": [
    "# https://seaborn.pydata.org/generated/seaborn.boxplot.html\n",
    "sns.boxplot(x=dependent, y=independent)"
   ]
  },
  {
   "cell_type": "markdown",
   "metadata": {},
   "source": [
    "This shows no outliers with setosa and versicolor with sepal_width but there is an outlier with virginica with sepal_width. This means there might be an issue with virginica. This means there might be a mistake on that sample or abnormality on that sample. "
   ]
  },
  {
   "cell_type": "markdown",
   "metadata": {},
   "source": [
    "#### Assumption 5:Normality\n",
    "\"Your dependent variable should be approximately normally distributed for each category of the independent variable.\" [6]\n",
    "\n",
    "https://statistics.laerd.com/spss-tutorials/testing-for-normality-using-spss-statistics.php\n",
    "https://docs.scipy.org/doc/scipy/reference/generated/scipy.stats.shapiro.html\n",
    "\n",
    "<br> \n",
    "***"
   ]
  },
  {
   "cell_type": "code",
   "execution_count": 8,
   "metadata": {},
   "outputs": [
    {
     "data": {
      "text/plain": [
       "<seaborn.axisgrid.FacetGrid at 0x22061056fc8>"
      ]
     },
     "execution_count": 8,
     "metadata": {},
     "output_type": "execute_result"
    },
    {
     "data": {
      "image/png": "[encoded data removed]",
      "text/plain": [
       "<Figure size 444.75x360 with 1 Axes>"
      ]
     },
     "metadata": {
      "needs_background": "light"
     },
     "output_type": "display_data"
    }
   ],
   "source": [
    "#KDEs of the three categories\n",
    "sns.displot(x= dependent, hue=independent, kind =\"kde\")\n"
   ]
  },
  {
   "cell_type": "code",
   "execution_count": 9,
   "metadata": {},
   "outputs": [
    {
     "data": {
      "text/plain": [
       "0     3.5\n",
       "1     3.0\n",
       "2     3.2\n",
       "3     3.1\n",
       "4     3.6\n",
       "5     3.9\n",
       "6     3.4\n",
       "7     3.4\n",
       "8     2.9\n",
       "9     3.1\n",
       "10    3.7\n",
       "11    3.4\n",
       "12    3.0\n",
       "13    3.0\n",
       "14    4.0\n",
       "15    4.4\n",
       "16    3.9\n",
       "17    3.5\n",
       "18    3.8\n",
       "19    3.8\n",
       "20    3.4\n",
       "21    3.7\n",
       "22    3.6\n",
       "23    3.3\n",
       "24    3.4\n",
       "25    3.0\n",
       "26    3.4\n",
       "27    3.5\n",
       "28    3.4\n",
       "29    3.2\n",
       "30    3.1\n",
       "31    3.4\n",
       "32    4.1\n",
       "33    4.2\n",
       "34    3.1\n",
       "35    3.2\n",
       "36    3.5\n",
       "37    3.1\n",
       "38    3.0\n",
       "39    3.4\n",
       "40    3.5\n",
       "41    2.3\n",
       "42    3.2\n",
       "43    3.5\n",
       "44    3.8\n",
       "45    3.0\n",
       "46    3.8\n",
       "47    3.2\n",
       "48    3.7\n",
       "49    3.3\n",
       "Name: sepal_width, dtype: float64"
      ]
     },
     "execution_count": 9,
     "metadata": {},
     "output_type": "execute_result"
    }
   ],
   "source": [
    "# Extract the setosa sepal width\n",
    "sepal_width_setosa=dependent[independent == \"setosa\"]\n",
    "sepal_width_setosa"
   ]
  },
  {
   "cell_type": "code",
   "execution_count": 10,
   "metadata": {},
   "outputs": [
    {
     "data": {
      "text/plain": [
       "ShapiroResult(statistic=0.968691885471344, pvalue=0.20465604960918427)"
      ]
     },
     "execution_count": 10,
     "metadata": {},
     "output_type": "execute_result"
    }
   ],
   "source": [
    "#Run the Shapiro-Wilk test\n",
    "\n",
    "ss.shapiro(sepal_width_setosa)\n"
   ]
  },
  {
   "cell_type": "markdown",
   "metadata": {},
   "source": [
    "P value is high thus the sepal_width is normally distributted."
   ]
  },
  {
   "cell_type": "code",
   "execution_count": 11,
   "metadata": {},
   "outputs": [
    {
     "data": {
      "text/plain": [
       "50    3.2\n",
       "51    3.2\n",
       "52    3.1\n",
       "53    2.3\n",
       "54    2.8\n",
       "55    2.8\n",
       "56    3.3\n",
       "57    2.4\n",
       "58    2.9\n",
       "59    2.7\n",
       "60    2.0\n",
       "61    3.0\n",
       "62    2.2\n",
       "63    2.9\n",
       "64    2.9\n",
       "65    3.1\n",
       "66    3.0\n",
       "67    2.7\n",
       "68    2.2\n",
       "69    2.5\n",
       "70    3.2\n",
       "71    2.8\n",
       "72    2.5\n",
       "73    2.8\n",
       "74    2.9\n",
       "75    3.0\n",
       "76    2.8\n",
       "77    3.0\n",
       "78    2.9\n",
       "79    2.6\n",
       "80    2.4\n",
       "81    2.4\n",
       "82    2.7\n",
       "83    2.7\n",
       "84    3.0\n",
       "85    3.4\n",
       "86    3.1\n",
       "87    2.3\n",
       "88    3.0\n",
       "89    2.5\n",
       "90    2.6\n",
       "91    3.0\n",
       "92    2.6\n",
       "93    2.3\n",
       "94    2.7\n",
       "95    3.0\n",
       "96    2.9\n",
       "97    2.9\n",
       "98    2.5\n",
       "99    2.8\n",
       "Name: sepal_width, dtype: float64"
      ]
     },
     "execution_count": 11,
     "metadata": {},
     "output_type": "execute_result"
    }
   ],
   "source": [
    "sepal_width_versicolor=dependent[independent == \"versicolor\"]\n",
    "sepal_width_versicolor"
   ]
  },
  {
   "cell_type": "code",
   "execution_count": 12,
   "metadata": {},
   "outputs": [
    {
     "data": {
      "text/plain": [
       "ShapiroResult(statistic=0.9741330742835999, pvalue=0.33798879384994507)"
      ]
     },
     "execution_count": 12,
     "metadata": {},
     "output_type": "execute_result"
    }
   ],
   "source": [
    "ss.shapiro(sepal_width_versicolor)"
   ]
  },
  {
   "cell_type": "markdown",
   "metadata": {},
   "source": [
    "Again, P value is high thus the sepal_width is normally distributted."
   ]
  },
  {
   "cell_type": "code",
   "execution_count": 13,
   "metadata": {},
   "outputs": [
    {
     "data": {
      "text/plain": [
       "100    3.3\n",
       "101    2.7\n",
       "102    3.0\n",
       "103    2.9\n",
       "104    3.0\n",
       "105    3.0\n",
       "106    2.5\n",
       "107    2.9\n",
       "108    2.5\n",
       "109    3.6\n",
       "110    3.2\n",
       "111    2.7\n",
       "112    3.0\n",
       "113    2.5\n",
       "114    2.8\n",
       "115    3.2\n",
       "116    3.0\n",
       "117    3.8\n",
       "118    2.6\n",
       "119    2.2\n",
       "120    3.2\n",
       "121    2.8\n",
       "122    2.8\n",
       "123    2.7\n",
       "124    3.3\n",
       "125    3.2\n",
       "126    2.8\n",
       "127    3.0\n",
       "128    2.8\n",
       "129    3.0\n",
       "130    2.8\n",
       "131    3.8\n",
       "132    2.8\n",
       "133    2.8\n",
       "134    2.6\n",
       "135    3.0\n",
       "136    3.4\n",
       "137    3.1\n",
       "138    3.0\n",
       "139    3.1\n",
       "140    3.1\n",
       "141    3.1\n",
       "142    2.7\n",
       "143    3.2\n",
       "144    3.3\n",
       "145    3.0\n",
       "146    2.5\n",
       "147    3.0\n",
       "148    3.4\n",
       "149    3.0\n",
       "Name: sepal_width, dtype: float64"
      ]
     },
     "execution_count": 13,
     "metadata": {},
     "output_type": "execute_result"
    }
   ],
   "source": [
    "sepal_width_virginica=dependent[independent == \"virginica\"]\n",
    "sepal_width_virginica"
   ]
  },
  {
   "cell_type": "code",
   "execution_count": 14,
   "metadata": {},
   "outputs": [
    {
     "data": {
      "text/plain": [
       "ShapiroResult(statistic=0.9673910140991211, pvalue=0.1809043288230896)"
      ]
     },
     "execution_count": 14,
     "metadata": {},
     "output_type": "execute_result"
    }
   ],
   "source": [
    "ss.shapiro(sepal_width_virginica)"
   ]
  },
  {
   "cell_type": "markdown",
   "metadata": {},
   "source": [
    "Again, P value is high thus the sepal_width is normally distributted."
   ]
  },
  {
   "cell_type": "markdown",
   "metadata": {},
   "source": [
    "These statistics shows outliers on virginica can be ignored, meaning, it is not significant outlier."
   ]
  },
  {
   "cell_type": "markdown",
   "metadata": {},
   "source": [
    "<br>\n",
    "#### Assumption 6: Homogeneity of Variances\n",
    "\n",
    "https://docs.scipy.org/doc/scipy/reference/generated/scipy.stats.levene.html\n",
    "\n",
    "***"
   ]
  },
  {
   "cell_type": "code",
   "execution_count": 15,
   "metadata": {},
   "outputs": [
    {
     "ename": "NameError",
     "evalue": "name 'independend' is not defined",
     "output_type": "error",
     "traceback": [
      "\u001b[1;31m-----------------------------------------------------------------------\u001b[0m",
      "\u001b[1;31mNameError\u001b[0m                             Traceback (most recent call last)",
      "\u001b[1;32m~\\AppData\\Local\\Temp/ipykernel_20924/408482337.py\u001b[0m in \u001b[0;36m<module>\u001b[1;34m\u001b[0m\n\u001b[0;32m      1\u001b[0m ss.levene(\n\u001b[0;32m      2\u001b[0m     \u001b[0mdependent\u001b[0m\u001b[1;33m[\u001b[0m\u001b[0mindependent\u001b[0m \u001b[1;33m==\u001b[0m \u001b[1;34m\"setosa\"\u001b[0m\u001b[1;33m]\u001b[0m\u001b[1;33m,\u001b[0m\u001b[1;33m\u001b[0m\u001b[1;33m\u001b[0m\u001b[0m\n\u001b[1;32m----> 3\u001b[1;33m     \u001b[0mdependent\u001b[0m\u001b[1;33m[\u001b[0m\u001b[0mindependend\u001b[0m \u001b[1;33m==\u001b[0m \u001b[1;34m\"versicolor\"\u001b[0m\u001b[1;33m]\u001b[0m\u001b[1;33m,\u001b[0m\u001b[1;33m\u001b[0m\u001b[1;33m\u001b[0m\u001b[0m\n\u001b[0m\u001b[0;32m      4\u001b[0m     \u001b[0mdependent\u001b[0m\u001b[1;33m[\u001b[0m\u001b[0mindependend\u001b[0m \u001b[1;33m==\u001b[0m \u001b[1;34m\"virginica\"\u001b[0m\u001b[1;33m]\u001b[0m\u001b[1;33m\u001b[0m\u001b[1;33m\u001b[0m\u001b[0m\n\u001b[0;32m      5\u001b[0m )\n",
      "\u001b[1;31mNameError\u001b[0m: name 'independend' is not defined"
     ]
    }
   ],
   "source": [
    "ss.levene(\n",
    "    dependent[independent == \"setosa\"],\n",
    "    dependent[independend == \"versicolor\"],\n",
    "    dependent[independend == \"virginica\"]\n",
    ")"
   ]
  },
  {
   "cell_type": "code",
   "execution_count": null,
   "metadata": {},
   "outputs": [],
   "source": []
  },
  {
   "cell_type": "markdown",
   "metadata": {},
   "source": [
    "https://www.youtube.com/watch?v=I17dg22TUA8\n",
    "\n",
    "https://en.wikipedia.org/wiki/Null_hypothesis"
   ]
  },
  {
   "cell_type": "code",
   "execution_count": null,
   "metadata": {},
   "outputs": [],
   "source": []
  },
  {
   "cell_type": "code",
   "execution_count": null,
   "metadata": {},
   "outputs": [],
   "source": []
  },
  {
   "cell_type": "code",
   "execution_count": null,
   "metadata": {},
   "outputs": [],
   "source": []
  }
 ],
 "metadata": {
  "kernelspec": {
   "display_name": "Python 3 (ipykernel)",
   "language": "python",
   "name": "python3"
  },
  "language_info": {
   "codemirror_mode": {
    "name": "ipython",
    "version": 3
   },
   "file_extension": ".py",
   "mimetype": "text/x-python",
   "name": "python",
   "nbconvert_exporter": "python",
   "pygments_lexer": "ipython3",
   "version": "3.7.11"
  }
 },
 "nbformat": 4,
 "nbformat_minor": 4
}
